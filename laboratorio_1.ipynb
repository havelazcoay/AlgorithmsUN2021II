{
  "nbformat": 4,
  "nbformat_minor": 0,
  "metadata": {
    "colab": {
      "name": "laboratorio_1.ipynb",
      "provenance": [],
      "authorship_tag": "ABX9TyOENSvXnfBIuCYb9bNB5YSO",
      "include_colab_link": true
    },
    "kernelspec": {
      "name": "python3",
      "display_name": "Python 3"
    },
    "language_info": {
      "name": "python"
    }
  },
  "cells": [
    {
      "cell_type": "markdown",
      "metadata": {
        "id": "view-in-github",
        "colab_type": "text"
      },
      "source": [
        "<a href=\"https://colab.research.google.com/github/havelazcoay/AlgorithmsUN2021II/blob/main/laboratorio_1.ipynb\" target=\"_parent\"><img src=\"https://colab.research.google.com/assets/colab-badge.svg\" alt=\"Open In Colab\"/></a>"
      ]
    },
    {
      "cell_type": "code",
      "execution_count": null,
      "metadata": {
        "id": "T0Hayll5-ols"
      },
      "outputs": [],
      "source": [
        "##My own example 1:\n",
        "\n",
        "print(334+58)\n"
      ]
    },
    {
      "cell_type": "code",
      "source": [
        "##My own example 2:\n",
        "x=54\n",
        "y=34\n",
        "print(x+y)"
      ],
      "metadata": {
        "id": "tQN2Y1Pj-9Bv"
      },
      "execution_count": null,
      "outputs": []
    },
    {
      "cell_type": "code",
      "source": [
        "##My own example 3:\n",
        "\n",
        "h = int(55)\n",
        "j = int(7)\n",
        "\n",
        "f = int(h*j)\n",
        "print(f)\n"
      ],
      "metadata": {
        "id": "9TkycXzb_Tbb"
      },
      "execution_count": null,
      "outputs": []
    },
    {
      "cell_type": "code",
      "source": [
        "##My own example 4:\n",
        "\n",
        "t = float(67.5)\n",
        "x = int(65)\n",
        "\n",
        "print (int(x+t) + float(2.3))  ##suma de un entero y un flotante como entero mas una suma de otro flotante"
      ],
      "metadata": {
        "id": "jC_uG9TmB0BP"
      },
      "execution_count": null,
      "outputs": []
    },
    {
      "cell_type": "code",
      "source": [
        "##My own example 5:\n",
        "\n",
        "s = str(\"hola \")\n",
        "print (s*3)  ##multiplicacion de string para hacer que se repita la palabra"
      ],
      "metadata": {
        "id": "VkVbNrN-Ct2D"
      },
      "execution_count": null,
      "outputs": []
    },
    {
      "cell_type": "code",
      "source": [
        "##My own example 6:\n",
        "\n",
        "i = \"increible\"\n",
        "\n",
        "def func_text():\n",
        "  h = str(\"harold es \")\n",
        "  print (h+i)\n",
        "\n",
        "func_text() ##uso de funciones"
      ],
      "metadata": {
        "id": "gcgqkqwRDlXs"
      },
      "execution_count": null,
      "outputs": []
    },
    {
      "cell_type": "code",
      "source": [
        "##My own example 7:\n",
        "p = \"python \"\n",
        "\n",
        "def func1():\n",
        "  global q \n",
        "  q = \"es sencillo\"\n",
        "  print (p + q)\n",
        "\n",
        "func1()   ## uso de varible global"
      ],
      "metadata": {
        "id": "eByt69ltEmHQ"
      },
      "execution_count": null,
      "outputs": []
    },
    {
      "cell_type": "code",
      "source": [
        "##My own example 8:\n",
        "w = 10\n",
        "y = \"hola\"\n",
        "print (type(w))\n",
        "print (type(y))"
      ],
      "metadata": {
        "id": "dsAE4R_QFU0a"
      },
      "execution_count": null,
      "outputs": []
    },
    {
      "cell_type": "code",
      "source": [
        "##My own example 9:\n",
        "\n",
        "a = 12.5\n",
        "b = 3\n",
        "\n",
        "z = a**3 \n",
        "print(z) ##uso de un numero elevado a un exponente"
      ],
      "metadata": {
        "id": "MQqdlwqRGXQF"
      },
      "execution_count": null,
      "outputs": []
    },
    {
      "cell_type": "code",
      "source": [
        "##My own example 10:\n",
        "\n",
        "a = 32\n",
        "b = 56\n",
        "\n",
        "z = a/b\n",
        "print(z)  ## uso de la division"
      ],
      "metadata": {
        "id": "cViN7U5VG7lU"
      },
      "execution_count": null,
      "outputs": []
    },
    {
      "cell_type": "code",
      "source": [
        "##My own example 11:\n",
        "\n",
        "a = 12.3\n",
        "b = 2\n",
        "\n",
        "d = int(a)\n",
        "c = float (b)\n",
        "\n",
        "print (d, c)"
      ],
      "metadata": {
        "id": "xWmMSvH1HTWK"
      },
      "execution_count": null,
      "outputs": []
    },
    {
      "cell_type": "code",
      "source": [
        "##My own example 12:\n",
        "\n",
        "import random\n",
        "\n",
        "print(random.randrange(1, 10)) ##importamos la libreria random y pedimos un numero al azar"
      ],
      "metadata": {
        "id": "g_CxCZO_IPuK"
      },
      "execution_count": null,
      "outputs": []
    },
    {
      "cell_type": "code",
      "source": [
        "##My own example 13:\n",
        "import random\n",
        "\n",
        "def MyFunc():\n",
        "  x = random.randrange(1, 10)\n",
        "  y = random.randrange(1, 10)\n",
        "  if (x > y):\n",
        "    print (\"x es mayor que y\")\n",
        "  else:\n",
        "    print (\"y es mayor que x\")\n",
        "\n",
        "MyFunc()     ## una funcion usando variables de valor aleatorio que las compara y nos dice que variable tiene mayor valor                        \n"
      ],
      "metadata": {
        "id": "LU6n8v2XIfBk"
      },
      "execution_count": null,
      "outputs": []
    },
    {
      "cell_type": "code",
      "source": [
        "##My own example 14:\n",
        "\n",
        "x = \"Universidad Nacional\"\n",
        "\n",
        "print(x[0])  ##imrpimimos la primera letra de un string como si fuera un Array"
      ],
      "metadata": {
        "id": "FWdhk2GjJULS"
      },
      "execution_count": null,
      "outputs": []
    },
    {
      "cell_type": "code",
      "source": [
        "##My own example 15:\n",
        "\n",
        "t = \"Harold Armando Velazco\"\n",
        "\n",
        "for caracter in t:\n",
        "  if caracter == \"a\":\n",
        "    print (t + \"\\n\" + caracter)  ##uso del for para mostrar mi nombre la cantidad de veces que contiene una a\n"
      ],
      "metadata": {
        "id": "3ibwIbmKJ33s"
      },
      "execution_count": null,
      "outputs": []
    },
    {
      "cell_type": "code",
      "source": [
        "##My own example 16:\n",
        "\n",
        "edad = int(input(\"¿Cuántos años tiene? \"))\n",
        "if edad < 18:\n",
        "    print(\"Es usted menor de edad\")\n",
        "else:\n",
        "    print(\"Es usted mayor de edad\")\n",
        "print(\"¡Hasta la próxima!\")    ## programa que nos pregunta nuestra edad con la funcion input"
      ],
      "metadata": {
        "id": "7Jcj7djxLmpv"
      },
      "execution_count": null,
      "outputs": []
    },
    {
      "cell_type": "code",
      "source": [
        "##My own example 17:\n",
        "\n",
        "a = \"algoritmos\"\n",
        "print(a.upper()) ##utilizamos el .upper para hacer que el string cambie a mayusculas"
      ],
      "metadata": {
        "id": "8FUELMMaL5ix"
      },
      "execution_count": null,
      "outputs": []
    },
    {
      "cell_type": "code",
      "source": [
        "##My own example 18:\n",
        "\n",
        "b = \"ESTUDIANTE\"\n",
        "print(b.lower())  ##utilizamos el .lower para hacer que el string cambie a minusculas"
      ],
      "metadata": {
        "id": "Zp5eQxbqMjt5"
      },
      "execution_count": null,
      "outputs": []
    },
    {
      "cell_type": "code",
      "source": [
        "##My own example 19:\n",
        "\n",
        "b = \"  soy batman  \"\n",
        "print (b.strip())  ##utilizamos .strip para remover los espacios en blanco al principio y al final\n"
      ],
      "metadata": {
        "id": "hgHWWPZUMlwj"
      },
      "execution_count": null,
      "outputs": []
    },
    {
      "cell_type": "code",
      "source": [
        "##My own example 20:\n",
        "\n",
        "for x in \"automovil\":\n",
        "  print(x) ## utilizamos un for para imprimir hacia abajo el String\n"
      ],
      "metadata": {
        "id": "fAbaK0PjNk1R"
      },
      "execution_count": null,
      "outputs": []
    },
    {
      "cell_type": "code",
      "source": [
        "##My own example 21:\n",
        "\n",
        "x=12\n",
        "y=32\n",
        "\n",
        "print (x%y)  ##residuo de una division"
      ],
      "metadata": {
        "id": "fuD1VXJaNxhI"
      },
      "execution_count": null,
      "outputs": []
    },
    {
      "cell_type": "code",
      "source": [
        "##My own example 22:\n",
        "\n",
        "t=2\n",
        "z=2\n",
        "\n",
        "if t==z:\n",
        "  print(\"true\")\n",
        "else:\n",
        "  print(\"false\")  ##uso de la comparacion"
      ],
      "metadata": {
        "id": "tf-rWoQXmSey"
      },
      "execution_count": null,
      "outputs": []
    },
    {
      "cell_type": "code",
      "source": [
        "##My own example 23:\n",
        "\n",
        "x = 5\n",
        "\n",
        "x &= 3\n",
        "\n",
        "print(x)  ##uso de operador &= para elementos de un conjunto"
      ],
      "metadata": {
        "id": "zqTQtFdVmjQX"
      },
      "execution_count": null,
      "outputs": []
    },
    {
      "cell_type": "code",
      "source": [
        "##My own example 24:\n",
        "\n",
        "x = 4\n",
        "\n",
        "x **= 4\n",
        "\n",
        "print(x)  ##elevar un numero a un exponente (modo 2)"
      ],
      "metadata": {
        "id": "GIp77t8KnAeB"
      },
      "execution_count": null,
      "outputs": []
    },
    {
      "cell_type": "code",
      "source": [
        "##My own example 25:\n",
        "\n",
        "u = 5\n",
        "i = 8\n",
        "\n",
        "print (u!=i)  ##operador de comparacion numero distinto a otro con resultado booleano"
      ],
      "metadata": {
        "id": "1btbqIbNnR_W"
      },
      "execution_count": null,
      "outputs": []
    },
    {
      "cell_type": "code",
      "source": [
        "##My own example 26:\n",
        "\n",
        "x = 8\n",
        "\n",
        "print(x > 3 and x < 10)  ##uso de comparador and"
      ],
      "metadata": {
        "id": "jUH8WBvInpii"
      },
      "execution_count": null,
      "outputs": []
    },
    {
      "cell_type": "code",
      "source": [
        "##My own example 27:\n",
        "\n",
        "x = 9\n",
        "\n",
        "print(x > 5 or x < 12)  ##uso de comparador or"
      ],
      "metadata": {
        "id": "GcUht2d5n4Kb"
      },
      "execution_count": null,
      "outputs": []
    },
    {
      "cell_type": "code",
      "source": [
        "##My own example 28:\n",
        "\n",
        "x = 7\n",
        "\n",
        "print(not(x > 2 and x < 17))  ##uso del comparador not"
      ],
      "metadata": {
        "id": "FJyEStthn_mO"
      },
      "execution_count": null,
      "outputs": []
    },
    {
      "cell_type": "code",
      "source": [
        "##My own example 29:\n",
        "\n",
        "lista = [\"manzana\", \"pera\", \"limon\"]\n",
        "\n",
        "print (lista)  ##uso de listas"
      ],
      "metadata": {
        "id": "rd0TYymboNGI"
      },
      "execution_count": null,
      "outputs": []
    },
    {
      "cell_type": "code",
      "source": [
        "##My own example 30:\n",
        "\n",
        "lista = [\"manzana\", \"pera\", \"limon\"]\n",
        "\n",
        "print (type(lista))  ##tipo de lista"
      ],
      "metadata": {
        "id": "niaGfo7Qoqdl"
      },
      "execution_count": null,
      "outputs": []
    },
    {
      "cell_type": "code",
      "source": [
        "##My own example 31:\n",
        "\n",
        "lista = [\"manzana\", \"pera\", \"limon\"]\n",
        "\n",
        "print (lista[1])  ##busqueda en una lista"
      ],
      "metadata": {
        "id": "8GIq9JQ6o-JD"
      },
      "execution_count": null,
      "outputs": []
    },
    {
      "cell_type": "code",
      "source": [
        "##My own example 32:\n",
        "\n",
        "lista = [\"manzana\", \"pera\", \"limon\", \"aguacate\", \"mango\", \"uva\"]\n",
        "\n",
        "print (lista[2:5]) ##elementos de una lista desde una posicion hasta el anterior a otra posicion"
      ],
      "metadata": {
        "id": "0u9WeD7FpUeq"
      },
      "execution_count": null,
      "outputs": []
    },
    {
      "cell_type": "code",
      "source": [
        "##My own example 33:\n",
        "\n",
        "lista = [\"manzana\", \"pera\", \"limon\", \"aguacate\", \"mango\", \"uva\"]\n",
        "\n",
        "print (lista[-2])  ##busqueda desde el ultimo elemento de una lista utilizando valor negativo"
      ],
      "metadata": {
        "id": "JTBwoLbNpq3B"
      },
      "execution_count": null,
      "outputs": []
    },
    {
      "cell_type": "code",
      "source": [
        "##My own example 34:\n",
        "\n",
        "lista = [\"manzana\", \"pera\", \"limon\", \"aguacate\", \"mango\", \"uva\"]\n",
        "\n",
        "print (lista[:3])  ##buscamos hasta el elemento anterior a la posicion marcada"
      ],
      "metadata": {
        "id": "Jw4NCnelp5LF"
      },
      "execution_count": null,
      "outputs": []
    },
    {
      "cell_type": "code",
      "source": [
        "##My own example 35:\n",
        "\n",
        "lista = [\"manzana\", \"pera\", \"limon\", \"aguacate\", \"mango\", \"uva\"]\n",
        "lista[2] = \"guayaba\"\n",
        "\n",
        "print (lista[2])  ##cambio de item en una lista"
      ],
      "metadata": {
        "id": "b6w5Wh0JqHZk"
      },
      "execution_count": null,
      "outputs": []
    },
    {
      "cell_type": "code",
      "source": [
        "##My own example 36:\n",
        "\n",
        "lista = [\"manzana\", \"pera\", \"limon\", \"aguacate\", \"mango\", \"uva\"]\n",
        "lista[2:3] = \"guayaba\", \"melon\"\n",
        "\n",
        "print (lista[2:4])  ##cambio varios elementos de una lista"
      ],
      "metadata": {
        "id": "SNg2z3gcqVyG"
      },
      "execution_count": null,
      "outputs": []
    },
    {
      "cell_type": "code",
      "source": [
        "##My own example 37:\n",
        "\n",
        "lista = [\"manzana\", \"pera\", \"limon\", \"aguacate\", \"mango\", \"uva\"]\n",
        "lista.insert(3, \"guayaba\")\n",
        "\n",
        "print (lista)  ##insertar un elemento a la lista con insert en una posicion moviendo los demas elementos "
      ],
      "metadata": {
        "id": "vmrxJ9qIqi1c"
      },
      "execution_count": null,
      "outputs": []
    },
    {
      "cell_type": "code",
      "source": [
        "##My own example 38:\n",
        "\n",
        "lista = [\"manzana\", \"pera\", \"limon\", \"aguacate\", \"mango\", \"uva\"]\n",
        "lista.append(\"lulo\")\n",
        "\n",
        "print (lista)  ##insertar un elemento a la lista en la ultima posocion con append"
      ],
      "metadata": {
        "id": "dJ2O3LhUq7Px"
      },
      "execution_count": null,
      "outputs": []
    },
    {
      "cell_type": "code",
      "source": [
        "##My own example 39:\n",
        "\n",
        "lista = [\"manzana\", \"pera\", \"limon\", \"aguacate\", \"mango\", \"uva\"]\n",
        "lista2 = [\"carro\", \"moto\", \"bicicleta\"]\n",
        "lista.extend(lista2)\n",
        "\n",
        "print (lista)  ##extender una lista con otra lista"
      ],
      "metadata": {
        "id": "nUwfRFTHrMJt"
      },
      "execution_count": null,
      "outputs": []
    },
    {
      "cell_type": "code",
      "source": [
        "##My own example 40:\n",
        "\n",
        "lista = [\"manzana\", \"pera\", \"limon\", \"aguacate\", \"mango\", \"uva\"]\n",
        "lista.remove(\"pera\")\n",
        "\n",
        "print (lista)  ##remover un elemento de una lista"
      ],
      "metadata": {
        "id": "VVfPoyLsrf7V"
      },
      "execution_count": null,
      "outputs": []
    },
    {
      "cell_type": "code",
      "source": [
        "##My own example 41:\n",
        "\n",
        "lista = [\"manzana\", \"pera\", \"limon\", \"aguacate\", \"mango\", \"uva\"]\n",
        "lista.pop(1)\n",
        "\n",
        "print (lista)  ##remover un elemento de una lista v2"
      ],
      "metadata": {
        "id": "h_KeB52Tr0yy"
      },
      "execution_count": null,
      "outputs": []
    },
    {
      "cell_type": "code",
      "source": [
        "##My own example 42:\n",
        "\n",
        "lista = [\"manzana\", \"pera\", \"limon\", \"aguacate\", \"mango\", \"uva\"]\n",
        "del lista[0]\n",
        "\n",
        "print (lista)  ##remover un elemento de una lista v3"
      ],
      "metadata": {
        "id": "ZIbbcFOlr40A"
      },
      "execution_count": null,
      "outputs": []
    },
    {
      "cell_type": "code",
      "source": [
        "##My own example 43:\n",
        "\n",
        "lista = [\"manzana\", \"pera\", \"limon\", \"aguacate\", \"mango\", \"uva\"]\n",
        "lista.clear()\n",
        "\n",
        "print (lista)  ##remover todo de una lista"
      ],
      "metadata": {
        "id": "QaeWDlLxsGv0"
      },
      "execution_count": null,
      "outputs": []
    },
    {
      "cell_type": "code",
      "source": [
        "##My own example 44:\n",
        "\n",
        "lista = [\"manzana\", \"pera\", \"limon\", \"aguacate\", \"mango\", \"uva\"]\n",
        "for x in lista:\n",
        "  print (x)  ##imprimir en loop una lista"
      ],
      "metadata": {
        "id": "DdnKbRYksS37"
      },
      "execution_count": null,
      "outputs": []
    },
    {
      "cell_type": "code",
      "source": [
        "##My own example 45:\n",
        "\n",
        "lista = [\"manzana\", \"pera\", \"limon\", \"aguacate\", \"mango\", \"uva\"]\n",
        "for i in range(len(lista)):  ##usamos len para utilizar el tamaño de una lista y luego lo imprimimos segun su posicion\n",
        "  print(lista[i])  ##imprimir en loop una lista v2"
      ],
      "metadata": {
        "id": "Wu6zhcl9sn6j"
      },
      "execution_count": null,
      "outputs": []
    },
    {
      "cell_type": "code",
      "source": [
        "##My own example 46:\n",
        "\n",
        "lista = [\"manzana\", \"pera\", \"limon\", \"aguacate\", \"mango\", \"uva\"]\n",
        "i = 0\n",
        "while i < len(lista):\n",
        "  print(lista[i])\n",
        "  i = i + 1    ##imprimir en loop una lista v3, utlizamos una variable y un while, mientras sea menor al tamaño de la lista imprimira el elemento de cada posicion"
      ],
      "metadata": {
        "id": "bUW41azIsz1n"
      },
      "execution_count": null,
      "outputs": []
    },
    {
      "cell_type": "code",
      "source": [
        "##My own example 47:\n",
        "\n",
        "lista = [\"manzana\", \"pera\", \"limon\", \"aguacate\", \"mango\", \"lulo\"]\n",
        "nuevalista = []\n",
        "\n",
        "for x in lista:\n",
        "  if \"a\" in x:\n",
        "    nuevalista.append(x)\n",
        "\n",
        "print (nuevalista)  ##añadimos elementos a una nueva lista dependiendo si el elemento posee la letra a"
      ],
      "metadata": {
        "id": "NYNogBqptWRq"
      },
      "execution_count": null,
      "outputs": []
    },
    {
      "cell_type": "code",
      "source": [
        "##My own example 48:\n",
        "\n",
        "lista = [\"manzana\", \"pera\", \"limon\", \"aguacate\", \"mango\", \"lulo\"]\n",
        "nuevalista = [x for x in lista if \"e\" in x]\n",
        "\n",
        "print (nuevalista)  ##añadimos elementos a una nueva lista dependiendo si el elemento posee la letra e \n"
      ],
      "metadata": {
        "id": "n8xBJnWlt1hw"
      },
      "execution_count": null,
      "outputs": []
    },
    {
      "cell_type": "code",
      "source": [
        "##My own example 49:\n",
        "\n",
        "lista = [\"manzana\", \"pera\", \"limon\", \"aguacate\", \"mango\", \"lulo\"]\n",
        "nuevalista = [x for x in lista if x != \"limon\"]\n",
        "\n",
        "print (nuevalista)  ##añadimos los elementos de una lista a otra exceptuando el elemento limon"
      ],
      "metadata": {
        "id": "hFj3D-9SudaU"
      },
      "execution_count": null,
      "outputs": []
    },
    {
      "cell_type": "code",
      "source": [
        "##My own example 50:\n",
        "\n",
        "lista = [\"manzana\", \"pera\", \"limon\", \"aguacate\", \"mango\", \"lulo\"]\n",
        "nuevalista = [x.upper() for x in lista]\n",
        "\n",
        "print (nuevalista)  ##utilizando de nuevo el .upper pero en toda una lista"
      ],
      "metadata": {
        "id": "yv32mL8_uusu"
      },
      "execution_count": null,
      "outputs": []
    },
    {
      "cell_type": "code",
      "source": [
        "##My own example 51:\n",
        "\n",
        "lista = [\"manzana\", \"pera\", \"limon\", \"aguacate\", \"mango\", \"lulo\"]\n",
        "lista.sort()\n",
        "\n",
        "print (lista)  ##ordenamos una lista de manera alfabetica con .sort()"
      ],
      "metadata": {
        "id": "Cw3rlnDyvBfh"
      },
      "execution_count": null,
      "outputs": []
    },
    {
      "cell_type": "code",
      "source": [
        "##My own example 52:\n",
        "\n",
        "lista = [\"manzana\", \"pera\", \"limon\", \"aguacate\", \"mango\", \"lulo\"]\n",
        "lista.sort(reverse = True)\n",
        "\n",
        "print (lista)  ##ordenamos una lista de manera alfabetica con .sort() pero ahora al reves"
      ],
      "metadata": {
        "id": "-Kv9E5XAvXEH"
      },
      "execution_count": null,
      "outputs": []
    },
    {
      "cell_type": "code",
      "source": [
        "##My own example 53:\n",
        "\n",
        "lista = [\"manzana\", \"pera\", \"limon\", \"aguacate\", \"mango\", \"lulo\", \"manzana\"]\n",
        "q = lista.count(\"manzana\")\n",
        "\n",
        "print (q)   ##numero de veces que aparece un elemento en una lista"
      ],
      "metadata": {
        "id": "fcXsq-2YvktH"
      },
      "execution_count": null,
      "outputs": []
    },
    {
      "cell_type": "code",
      "source": [
        "##My own example 54:\n",
        "\n",
        "set1 =  {1,2,3,4,5,6,7}\n",
        "\n",
        "print(type(set1))   ##usamos la clase set"
      ],
      "metadata": {
        "id": "jI0eXpMYOhho"
      },
      "execution_count": null,
      "outputs": []
    },
    {
      "cell_type": "code",
      "source": [
        "##My own example 55:\n",
        "\n",
        "tupla = (\"harold\",)\n",
        "print(type(tupla))  ##uso de la clase tupla\n",
        "\n",
        "nottuple = (\"unal\")\n",
        "print(type(nottuple))  ##no es una tupla, marcamos la diferencia"
      ],
      "metadata": {
        "id": "2AGaY62qPBwo"
      },
      "execution_count": null,
      "outputs": []
    },
    {
      "cell_type": "code",
      "source": [
        "##My own example 56:\n",
        "\n",
        "set1 = {1,2,3,4,5,6,7}\n",
        "set1.add(8)\n",
        "\n",
        "print(set1)  ##como añadir elementos a un set con add, solo uno a la vez"
      ],
      "metadata": {
        "id": "cQGgPAKfPeHa"
      },
      "execution_count": null,
      "outputs": []
    },
    {
      "cell_type": "code",
      "source": [
        "##My own example 57:\n",
        "\n",
        "set1 = {1,2,3,4,5,6,7}\n",
        "set2 = {8,9,10}\n",
        "\n",
        "set1.update(set2)\n",
        "\n",
        "print(set1)  ##añadimos mas elementos al set con update"
      ],
      "metadata": {
        "id": "--o6wAxqQUcS"
      },
      "execution_count": null,
      "outputs": []
    },
    {
      "cell_type": "code",
      "source": [
        "##My own example 58:\n",
        "\n",
        "set1 = {1,2,3,4,5,6,7}\n",
        "set1.remove(1)\n",
        "\n",
        "print(set1)  ##removemos elementos con remove"
      ],
      "metadata": {
        "id": "4jt-k7leQox0"
      },
      "execution_count": null,
      "outputs": []
    },
    {
      "cell_type": "code",
      "source": [
        "##My own example 59:\n",
        "\n",
        "set1 = {1,2,3,4,5,6,7}\n",
        "\n",
        "set1.discard(1)\n",
        "\n",
        "print(set1)  ##removemos elementos con discard"
      ],
      "metadata": {
        "id": "COFIVS78QyUD"
      },
      "execution_count": null,
      "outputs": []
    },
    {
      "cell_type": "code",
      "source": [
        "##My own example 60:\n",
        "\n",
        "set1 = {1,2,3,4,5,6,7}\n",
        "\n",
        "x = set1.pop()\n",
        "\n",
        "print(x)  ##por ultimo probamos la funcion pop para remover el primer elemento\n",
        "print (set1)"
      ],
      "metadata": {
        "id": "mUKtrZbiQ8K9"
      },
      "execution_count": null,
      "outputs": []
    },
    {
      "cell_type": "code",
      "source": [
        "##My own example 61:\n",
        "\n",
        "set1 = {\"a\", \"b\" , \"c\"}\n",
        "set2 = {1, 2, 3}\n",
        "\n",
        "set3 = set1.union(set2)  ##probamos la funcion union entre sets\n",
        "print(set3)"
      ],
      "metadata": {
        "colab": {
          "base_uri": "https://localhost:8080/"
        },
        "id": "Iv9w-xUNRaUk",
        "outputId": "c812536b-4906-4740-d4d8-f6bfc0228d9f"
      },
      "execution_count": 19,
      "outputs": [
        {
          "output_type": "stream",
          "name": "stdout",
          "text": [
            "{1, 2, 3, 'b', 'a', 'c'}\n"
          ]
        }
      ]
    },
    {
      "cell_type": "code",
      "source": [
        "##My own example 62:\n",
        "\n",
        "dict1 = {\n",
        "    \"marca\": \"ford\",\n",
        "    \"modelo\": \"mustang\",\n",
        "    \"año\": 2022\n",
        "}\n",
        "\n",
        "m = dict1.get(\"marca\")\n",
        "\n",
        "print(m)   ##hacemos uso de los diccionarios en python para guardar datos"
      ],
      "metadata": {
        "id": "V3r2JPPLRc1z"
      },
      "execution_count": null,
      "outputs": []
    },
    {
      "cell_type": "code",
      "source": [
        "##My own example 63:\n",
        "\n",
        "dict1 = {\n",
        "    \"marca\": \"ford\",\n",
        "    \"modelo\": \"mustang\",\n",
        "    \"año\": 2022\n",
        "}\n",
        "\n",
        "m = dict1.keys()\n",
        "\n",
        "print(m) ##aprendemos que la funcion keys nos devuelve la lista de llaves del diccionario"
      ],
      "metadata": {
        "id": "DhsRSQ9ESZGy"
      },
      "execution_count": null,
      "outputs": []
    },
    {
      "cell_type": "code",
      "source": [
        "##My own example 64:\n",
        "\n",
        "dict1 = {\n",
        "    \"marca\": \"ford\",\n",
        "    \"modelo\": \"mustang\",\n",
        "    \"año\": 2022\n",
        "}\n",
        "\n",
        "dict1[\"color\"] = \"negro\"  ##añadimos una llave y su valor al diccionario\n",
        "m = dict1.keys()\n",
        "n = dict1.get(\"color\")\n",
        "\n",
        "print(m, \"\\n\", \"el color es: \" + n)"
      ],
      "metadata": {
        "id": "BVay3fFFSlWK"
      },
      "execution_count": null,
      "outputs": []
    },
    {
      "cell_type": "code",
      "source": [
        "##My own example 65:\n",
        "\n",
        "dict1 = {\n",
        "    \"marca\": \"ford\",\n",
        "    \"modelo\": \"mustang\",\n",
        "    \"año\": 2022\n",
        "}\n",
        "\n",
        "m = dict1.values()\n",
        "\n",
        "print(m)  ##aprendemos que la funcion values nos devuelve los valores de las llaves del diccinario"
      ],
      "metadata": {
        "id": "Lmy3Z4K1Tf7d"
      },
      "execution_count": null,
      "outputs": []
    },
    {
      "cell_type": "code",
      "source": [
        "##My own example 66:\n",
        "\n",
        "dict1 = {\n",
        "    \"marca\": \"ford\",\n",
        "    \"modelo\": \"mustang\",\n",
        "    \"año\": 2022\n",
        "}\n",
        "\n",
        "m = dict1.items()\n",
        "\n",
        "print(m)  ##por ultimo la funcion items nos devuelve el diccionario usando cada llave con su respectivo valor"
      ],
      "metadata": {
        "id": "hKNqa8-dT0MW"
      },
      "execution_count": null,
      "outputs": []
    },
    {
      "cell_type": "code",
      "source": [
        "##My own example 67:\n",
        "\n",
        "dict1 = {\n",
        "    \"marca\": \"ford\",\n",
        "    \"modelo\": \"mustang\",\n",
        "    \"año\": 2022\n",
        "}\n",
        "\n",
        "m = dict1.copy()\n",
        "\n",
        "print(m)  ##utilizamos la funcion copy para copiar el diccionario de una variable a otra"
      ],
      "metadata": {
        "id": "i_86WaspUF_F"
      },
      "execution_count": null,
      "outputs": []
    },
    {
      "cell_type": "code",
      "source": [
        "##My own example 68:\n",
        "\n",
        "dict1 = {\n",
        "    \"auto1\": {\n",
        "    \"marca\": \"ford\",\n",
        "    \"modelo\": \"mustang\",\n",
        "    \"año\": 2022\n",
        "    },\n",
        "    \"auto2\": {\n",
        "    \"marca\" : \"chevrolet\",\n",
        "    \"modelo\" : \"camaro\",\n",
        "    \"año\": 2021\n",
        "    },\n",
        "    \"auto3\": {\n",
        "    \"marca\" : \"subaru\",\n",
        "    \"modelo\" : \"impreza\",\n",
        "    \"año\": 2023\n",
        "    }\n",
        "}\n",
        "\n",
        "miscarros = {\n",
        "    \"auto1\" : dict1.get(\"auto1\"),\n",
        "    \"auto2\" : dict1.get(\"auto2\"),\n",
        "    \"auto3\" : dict1.get(\"auto3\")\n",
        "}\n",
        "\n",
        "print(miscarros)  ##uso de diccionarios anidados"
      ],
      "metadata": {
        "id": "eKcRDdl_Uezf"
      },
      "execution_count": null,
      "outputs": []
    },
    {
      "cell_type": "code",
      "source": [
        "##My own example 69:\n",
        "a = 10\n",
        "b = 10\n",
        "if b > a:\n",
        "  print(\"b es mas grande que a a\")\n",
        "elif a == b:\n",
        "  print(\"a y b son iguales\")  ##uso del elif"
      ],
      "metadata": {
        "id": "b4ODuNyNWAfh"
      },
      "execution_count": null,
      "outputs": []
    },
    {
      "cell_type": "code",
      "source": [
        "##My own example 70:\n",
        "\n",
        "i = 1\n",
        "while i < 10:\n",
        "  print(i)\n",
        "  if i == 5:\n",
        "    break\n",
        "  i += 1  ##uso del while lopp y el break"
      ],
      "metadata": {
        "id": "ny1Y1k0SWNbo"
      },
      "execution_count": null,
      "outputs": []
    },
    {
      "cell_type": "code",
      "source": [
        "##My own example 71:\n",
        "\n",
        "adj = [\"rojo\", \"grande\", \"deliciosa\"]\n",
        "frutas = [\"manzana\", \"banana\", \"fresa\"]\n",
        "\n",
        "for x in adj:\n",
        "  for y in frutas:\n",
        "    print(x, y)  ##uso del for anidado"
      ],
      "metadata": {
        "id": "FQTkZVfLWdRr"
      },
      "execution_count": null,
      "outputs": []
    },
    {
      "cell_type": "code",
      "source": [
        "##My own example 72:\n",
        "\n",
        "def mifuncion(*ninos):  ##si desconocemos el nombre de una variable, utilizamos el *antes de nombrarla en el parametro\n",
        "  print(\"el nino mas joven es \" + ninos[2])\n",
        "\n",
        "mifuncion(\"Carlos\", \"Tobias\", \"Juan\")\n"
      ],
      "metadata": {
        "id": "rGbIuT2qYxYa"
      },
      "execution_count": null,
      "outputs": []
    },
    {
      "cell_type": "code",
      "source": [
        "##My own example 73:\n",
        "\n",
        "def mifuncion(**ninos):  ##si desconocemos el numeros de variables, utilizamos el **antes de nombrarla en el parametro\n",
        "  print(\"el apellido es \" + ninos[\"Papellido\"])  ##llamamos a la variable entre comillas\n",
        "\n",
        "mifuncion(Pnombre = \"Harold\", Papellido = \"Velazco\")"
      ],
      "metadata": {
        "id": "wF_Rojq3ZfvK"
      },
      "execution_count": null,
      "outputs": []
    },
    {
      "cell_type": "code",
      "source": [
        "##My own example 74:\n",
        "def mifuncion(z):\n",
        "  return 3 * z   ##retorno de valores de una funcion\n",
        "\n",
        "print(mifuncion(5))\n",
        "print(mifuncion(10))\n",
        "print(mifuncion(15))\n"
      ],
      "metadata": {
        "id": "xhipLWg9aSgY"
      },
      "execution_count": null,
      "outputs": []
    },
    {
      "cell_type": "code",
      "source": [
        "##My own example 74:\n",
        "def mifuncion():  ##una funcion no puede estar vacia, por lo tanto utilizamos el pass para evitar tener un error\n",
        "  pass"
      ],
      "metadata": {
        "id": "DvJ7adZWauVI"
      },
      "execution_count": 39,
      "outputs": []
    },
    {
      "cell_type": "code",
      "source": [
        "##My own example 75:\n",
        "\n",
        "x = lambda a: a + 10\n",
        "print(x(10))  ##uso de la funcion lambda"
      ],
      "metadata": {
        "id": "qfx0l-o5bBY7"
      },
      "execution_count": null,
      "outputs": []
    },
    {
      "cell_type": "code",
      "source": [
        "##My own example 76:\n",
        "\n",
        "x = lambda a, b: a + b\n",
        "print(x(10,5))  ##uso de la funcion lambda para hacer operaciones"
      ],
      "metadata": {
        "id": "EQ2iOFMRdD61"
      },
      "execution_count": null,
      "outputs": []
    },
    {
      "cell_type": "code",
      "source": [
        "##My own example 77:\n",
        "def recursion(n):\n",
        "  if(n > 0):\n",
        "    result =  n + recursion(n - 1)  ##vamos a empezar con n=1 y lo sumamos con el valor de n-1\n",
        "    print(result)\n",
        "  else:\n",
        "    result = 0\n",
        "  return result\n",
        "\n",
        "print(\"\\n\\nResultador de recursion\")  ##el resultado siguiente sera el n mas la posicion anterior de n\n",
        "recursion(10) ##ejecutamos la recursion 10 veces, se decrementa en 1 cada vez que se ejecuta"
      ],
      "metadata": {
        "id": "YvFa-mjQe6wj"
      },
      "execution_count": null,
      "outputs": []
    },
    {
      "cell_type": "code",
      "source": [
        "##My own example 78:\n",
        "def mifuncion(n):\n",
        "  return lambda a : a * n\n",
        "\n",
        "midouble = mifuncion(2)\n",
        "\n",
        "print(midouble(10))  ##uso del lambda dentro de una funcion que multiplica el doble con el numero n de la funcion"
      ],
      "metadata": {
        "id": "3guHkL6hiLc4"
      },
      "execution_count": null,
      "outputs": []
    },
    {
      "cell_type": "code",
      "source": [
        "##My own example 79:\n",
        "\n",
        "class miclase:\n",
        "  x=10\n",
        "\n",
        "print(miclase)  ##uso de clases"
      ],
      "metadata": {
        "id": "Jb1xAV0uidbQ"
      },
      "execution_count": null,
      "outputs": []
    },
    {
      "cell_type": "code",
      "source": [
        "##My own example 80:\n",
        "\n",
        "class miclase:\n",
        "  x=10\n",
        "\n",
        "p1=miclase()\n",
        "print(p1.x)  ##creamos un objeto de la clase y asignamos el valor de x"
      ],
      "metadata": {
        "id": "be6Z5g0CjB18"
      },
      "execution_count": null,
      "outputs": []
    },
    {
      "cell_type": "code",
      "source": [
        "##My own example 81:\n",
        "class Persona:  ##uso de clase con funciones\n",
        "  def __init__(self, name, age):  ##uso de la funcion init\n",
        "    self.name = name\n",
        "    self.age = age\n",
        "\n",
        "  def mifunc(self):\n",
        "    print(\"Hola mi nombre es:  \" + self.name)\n",
        "\n",
        "p1 = Persona(\"Harold\", 23)\n",
        "p1.mifunc()"
      ],
      "metadata": {
        "id": "MbeKgfzkjb1t"
      },
      "execution_count": null,
      "outputs": []
    },
    {
      "cell_type": "code",
      "source": [
        "##My own example 82:\n",
        "for i in range(1,100):\n",
        "  if ((i%2)==0):\n",
        "    print(i)  ## programa que nos muestra los numeros pares de 1 a 100"
      ],
      "metadata": {
        "id": "1ZcYqAnTk_4v"
      },
      "execution_count": null,
      "outputs": []
    },
    {
      "cell_type": "code",
      "source": [
        "##My own example 83:\n",
        "\n",
        "cadena1 = input(\"escribe una cadena:\")\n",
        "cadena_al_reves = cadena1[::-1]\n",
        "print(cadena_al_reves)\n",
        "if(cadena1 == cadena_al_reves):\n",
        "\tprint(\"es palindromo\")\n",
        "else:\n",
        "\tprint(\"no es palindromo\")  ##programa que nos pide una cadena y nos dice si es palindromo o no"
      ],
      "metadata": {
        "id": "GoQSIGRlmiOf"
      },
      "execution_count": null,
      "outputs": []
    },
    {
      "cell_type": "code",
      "source": [
        "##My own example 84:\n",
        "\n",
        "numero_binario = input(\"ingresa el numero binario: \")\n",
        "\n",
        "numero_decimal = 0 #aquí iremos sumando el resultado de cada multiplicación\n",
        "\n",
        "for posicion, digito_string in enumerate(numero_binario[::-1]):\n",
        "\tnumero_decimal += int(digito_string) * 2 ** posicion\n",
        "\n",
        "print(f'El número decimal que buscamos es {numero_decimal}')   ##programa que convierte binario a decimal"
      ],
      "metadata": {
        "id": "LxflFk0FnUOj"
      },
      "execution_count": null,
      "outputs": []
    },
    {
      "cell_type": "code",
      "source": [
        "##My own example 85:\n",
        "\n",
        "import datetime\n",
        "now = datetime.datetime.now()\n",
        "print (\"La fecha y hora actual es : \")\n",
        "print (now.strftime(\"%Y-%m-%d %H:%M:%S\"))  ##imprimimos la fecha y hora actual"
      ],
      "metadata": {
        "id": "UKuB7rvwpBKp"
      },
      "execution_count": null,
      "outputs": []
    },
    {
      "cell_type": "code",
      "source": [
        "##My own example 86:\n",
        "\n",
        "print(bool('tengo una opcion'))\n",
        "print(bool([]))   ##mas ejemplos de booleanos"
      ],
      "metadata": {
        "id": "9o8YGQJVpIlu"
      },
      "execution_count": null,
      "outputs": []
    },
    {
      "cell_type": "code",
      "source": [
        "##My own example 87:\n",
        "\n",
        "print(bool([1, 2, 3]))  ##el booleano de numeros es true"
      ],
      "metadata": {
        "id": "5b6xKM6W9FHH"
      },
      "execution_count": null,
      "outputs": []
    },
    {
      "cell_type": "code",
      "source": [
        "##My own example 88:\n",
        "\n",
        "class Person:\n",
        "  def __init__(self, fname, lname):\n",
        "    self.firstname = fname\n",
        "    self.lastname = lname\n",
        "\n",
        "  def printname(self):\n",
        "    print(self.firstname, self.lastname)\n",
        "\n",
        "class Student(Person):\n",
        "  def __init__(self, fname, lname):\n",
        "    super().__init__(fname, lname)\n",
        "\n",
        "x = Student(\"Harold\", \"Velazco\")\n",
        "x.printname()  ##uso del super()"
      ],
      "metadata": {
        "id": "dGY3Ud4A9Lmb"
      },
      "execution_count": null,
      "outputs": []
    },
    {
      "cell_type": "code",
      "source": [
        "##My own example 89:\n",
        "class Person:\n",
        "  def __init__(self, fname, lname):\n",
        "    self.firstname = fname\n",
        "    self.lastname = lname\n",
        "\n",
        "  def printname(self):\n",
        "    print(self.firstname, self.lastname)\n",
        "\n",
        "class Student(Person):\n",
        "  def __init__(self, fname, lname):\n",
        "    super().__init__(fname, lname)\n",
        "    self.graduationyear = 2019\n",
        "\n",
        "x = Student(\"Harold\", \"Velazco\")\n",
        "print(x.graduationyear)  ##añadimos elemetos a la clase usando el super y las variables internas"
      ],
      "metadata": {
        "id": "ijvXvyE_9e4G"
      },
      "execution_count": null,
      "outputs": []
    },
    {
      "cell_type": "code",
      "source": [
        "##My own example 90:\n",
        "class Person:\n",
        "  def __init__(self, fname, lname):\n",
        "    self.firstname = fname\n",
        "    self.lastname = lname\n",
        "\n",
        "  def printname(self):\n",
        "    print(self.firstname, self.lastname)\n",
        "\n",
        "class Student(Person):\n",
        "  def __init__(self, fname, lname, year):\n",
        "    super().__init__(fname, lname)\n",
        "    self.graduationyear = year\n",
        "\n",
        "  def welcome(self):\n",
        "    print(\"Welcome\", self.firstname, self.lastname, \"to the class of\", self.graduationyear)\n",
        "\n",
        "x = Student(\"Harold\", \"Velazco\", 2022)  ##añadimos el metodo llamado welcome a la clase estudiante\n",
        "x.welcome()\n"
      ],
      "metadata": {
        "id": "mWbl3U5Y940m"
      },
      "execution_count": null,
      "outputs": []
    },
    {
      "cell_type": "code",
      "source": [
        "##My own example 91: iteradores\n",
        "\n",
        "mitupla = (\"pera\", \"banana\", \"manzana\")\n",
        "miit = iter(mitupla)\n",
        "\n",
        "print(next(miit))\n",
        "print(next(miit))\n",
        "print(next(miit))  ##uso del iterador iter"
      ],
      "metadata": {
        "id": "tXb9mB-2-IZV"
      },
      "execution_count": null,
      "outputs": []
    },
    {
      "cell_type": "code",
      "source": [
        "##My own example 92: iteradores, creando un iterador\n",
        "class MisNumeros:\n",
        "  def __iter__(self):\n",
        "    self.a = 1\n",
        "    return self\n",
        "\n",
        "  def __next__(self):\n",
        "    x = self.a\n",
        "    self.a += 1\n",
        "    return x\n",
        "\n",
        "miClase = MisNumeros()\n",
        "miiter = iter(miClase)\n",
        "\n",
        "print(next(miiter))\n",
        "print(next(miiter))\n",
        "print(next(miiter))\n",
        "print(next(miiter))\n",
        "print(next(miiter))"
      ],
      "metadata": {
        "id": "C7H1WntH-tUa"
      },
      "execution_count": null,
      "outputs": []
    },
    {
      "cell_type": "code",
      "source": [
        "##My own example 93: iteradores, deteniendo el iterador despues de 20 iteraciones\n",
        "class MisNumeros:\n",
        "  def __iter__(self):\n",
        "    self.a = 1\n",
        "    return self\n",
        "\n",
        "  def __next__(self):\n",
        "    if self.a <= 20:\n",
        "      x = self.a\n",
        "      self.a += 1\n",
        "      return x\n",
        "    else:\n",
        "      raise StopIteration\n",
        "\n",
        "miClase = MisNumeros()\n",
        "miiter = iter(miClase)\n",
        "\n",
        "for x in miiter:\n",
        "  print(x)\n"
      ],
      "metadata": {
        "id": "sakYDhRPABlh"
      },
      "execution_count": null,
      "outputs": []
    },
    {
      "cell_type": "code",
      "source": [
        "##My own example 94: funcion dentro de una funcion\n",
        "\n",
        "def MyFuncion():\n",
        "  x=100\n",
        "  def Func2():\n",
        "    print(x)\n",
        "  Func2()\n",
        "MyFuncion()"
      ],
      "metadata": {
        "id": "VKwz4o-vATW0"
      },
      "execution_count": null,
      "outputs": []
    },
    {
      "cell_type": "code",
      "source": [
        "##My own example 95: \n",
        "x = 100  ##uso de una variable global y uso dentro de una funcion\n",
        "\n",
        "def myfunc():\n",
        "  x = 50\n",
        "  print(x)  ##nos imprime el valor dentro de la funcion\n",
        "\n",
        "myfunc()\n",
        "\n",
        "print(x)  ##el valor global no cambia, x es igual a 100"
      ],
      "metadata": {
        "id": "o70UCqwPBLT8"
      },
      "execution_count": null,
      "outputs": []
    },
    {
      "cell_type": "code",
      "source": [
        "##My own example 96: matematicas maximos y minimos\n",
        "\n",
        "x = min(3, 9, 18)\n",
        "y = max(20, 15, 18)\n",
        "\n",
        "print(x)\n",
        "print(y)"
      ],
      "metadata": {
        "id": "slQChVs7EkiM"
      },
      "execution_count": null,
      "outputs": []
    },
    {
      "cell_type": "code",
      "source": [
        "##My own example 97: matematicas\n",
        "\n",
        "z = -89.32\n",
        "\n",
        "print(abs(z))  ##abs nos devuelve el valor positivo "
      ],
      "metadata": {
        "id": "CxxmKsplFciD"
      },
      "execution_count": null,
      "outputs": []
    },
    {
      "cell_type": "code",
      "source": [
        "##My own example 98: matematicas\n",
        "\n",
        "a = pow(5,5)\n",
        "\n",
        "print(a)   ##otra forma de elevar a una potencia un numero es con la funcion pow"
      ],
      "metadata": {
        "id": "Z-HJvnfgFt9f"
      },
      "execution_count": null,
      "outputs": []
    },
    {
      "cell_type": "code",
      "source": [
        "##My own example 99: matematicas\n",
        "\n",
        "import math  ##importamos el modulo de matematicas\n",
        "\n",
        "n = math.sqrt(81)\n",
        "\n",
        "print(n)   ##math.sqrt nos da la raiz de un numero en decimal\n"
      ],
      "metadata": {
        "id": "VAJq8Ch7F6i5"
      },
      "execution_count": null,
      "outputs": []
    },
    {
      "cell_type": "code",
      "source": [
        "##My own example 100: matematicas\n",
        "\n",
        "import math\n",
        "\n",
        "l = math.floor(52.6)  ##la funcion floor nos acerca al suelo o valor inferior de un numero decimal\n",
        "print(l)"
      ],
      "metadata": {
        "id": "DsH1pNDwGIxz"
      },
      "execution_count": null,
      "outputs": []
    },
    {
      "cell_type": "code",
      "source": [
        "##My own example 101: matematicas\n",
        "\n",
        "import math\n",
        "\n",
        "l = math.ceil(52.6)  ##la funcion floor nos acerca al techo o valor superior de un numero decimal\n",
        "print(l)"
      ],
      "metadata": {
        "id": "Fy_o4VuwGe_o"
      },
      "execution_count": null,
      "outputs": []
    },
    {
      "cell_type": "code",
      "source": [
        "##My own example 102: matematicas\n",
        "\n",
        "p = math.pi\n",
        "\n",
        "print(p)  ##uso de la funcion pi, nos da como resultado pi\n"
      ],
      "metadata": {
        "id": "rKJcmOofGkQ6"
      },
      "execution_count": null,
      "outputs": []
    },
    {
      "cell_type": "code",
      "source": [
        "##My own example 103: JSON\n",
        "\n",
        "import json ##importamos la libreria json\n",
        "\n",
        "MisDatos = '{\"nombre\" : \"Harold\", \"edad\" : \"23\", \"sexo\" : \"maculino\"}'  ##uso del '' por fuera de la lista por uso del JSON\n",
        "\n",
        "j = json.loads(MisDatos)\n",
        "print(j[\"nombre\"])  ##muy similar a los diccionarios"
      ],
      "metadata": {
        "id": "w4Ur1tA8GxLe"
      },
      "execution_count": null,
      "outputs": []
    },
    {
      "cell_type": "code",
      "source": [
        "##My own example 104: JSON\n",
        "\n",
        "import json \n",
        "\n",
        "MisDatos = {                ##python\n",
        "    \"nombre\" : \"Harold\", \n",
        "    \"edad\" : \"23\", \n",
        "    \"sexo\" : \"maculino\"\n",
        "    }\n",
        "\n",
        "j = json.dumps(MisDatos)\n",
        "print(j)                    ##transoformamos el formato de python al de JSON"
      ],
      "metadata": {
        "id": "t1nPvGoWHpDS"
      },
      "execution_count": null,
      "outputs": []
    },
    {
      "cell_type": "code",
      "source": [
        "##My own example 105: JSON                 convertir varios objetos de python a JSON\n",
        "\n",
        "import json\n",
        "\n",
        "print(json.dumps({\"nombre\": \"Harold\", \"edad\": 23}))\n",
        "print(json.dumps([\"lulo\", \"bananas\"]))\n",
        "print(json.dumps((\"manzana\", \"peras\")))\n",
        "print(json.dumps(\"hola\"))\n",
        "print(json.dumps(50))\n",
        "print(json.dumps(28.57))\n",
        "print(json.dumps(True))\n",
        "print(json.dumps(False))\n",
        "print(json.dumps(None))\n"
      ],
      "metadata": {
        "id": "MMfDXDZHIDHk"
      },
      "execution_count": null,
      "outputs": []
    },
    {
      "cell_type": "code",
      "source": [
        "##My own example 106: RegEx - modulo para busquedas\n",
        "\n",
        "import re\n",
        "\n",
        "txt = \"la reina de inglaterra\"\n",
        "x = re.search(\"^la.*inglaterra$\",txt)\n",
        "\n",
        "if x:\n",
        "  print(\"Existe\")\n",
        "else:\n",
        "  print(\"No existe\")\n"
      ],
      "metadata": {
        "id": "RntjnAB2ILbs"
      },
      "execution_count": null,
      "outputs": []
    },
    {
      "cell_type": "code",
      "source": [
        "##My own example 107: RegEx - modulo para busquedas\n",
        "\n",
        "import re\n",
        "\n",
        "\n",
        "txt = \"la reina de inglaterra\"\n",
        "x = re.findall(\"la\", txt)   ##funcion findall basada en texto\n",
        "print(x)"
      ],
      "metadata": {
        "id": "T5ockd7SJf6d"
      },
      "execution_count": null,
      "outputs": []
    },
    {
      "cell_type": "code",
      "source": [
        "##My own example 108: RegEx - modulo para busquedas\n",
        "\n",
        "import re\n",
        "\n",
        "txt = \"la reina de inglaterra\"\n",
        "x = re.search(\"\\s\", txt)\n",
        "\n",
        "print(\"El primer carácter de espacio en blanco se encuentra en la posición:\", x.start()) "
      ],
      "metadata": {
        "id": "mKvFY-dOJz2n"
      },
      "execution_count": null,
      "outputs": []
    },
    {
      "cell_type": "code",
      "source": [
        "##My own example 109: RegEx - modulo para busquedas\n",
        "\n",
        "import re\n",
        "\n",
        "txt = \"la reina de inglaterra\"\n",
        "x = re.split(\"\\s\", txt)    ##split nos separa cada palabra de la cadena\n",
        "\n",
        "print(x) "
      ],
      "metadata": {
        "id": "NhYjosZ9KlYK"
      },
      "execution_count": null,
      "outputs": []
    },
    {
      "cell_type": "code",
      "source": [
        "##My own example 109: RegEx - modulo para busquedas\n",
        "\n",
        "import re\n",
        "\n",
        "txt = \"la reina de inglaterra\"\n",
        "x = re.split(\"\\s\", txt,1)    ##split nos separa cada palabra de la cadena, en este caso al poner 1 como ultimo valor nos separara la primera palabra\n",
        "\n",
        "print(x) "
      ],
      "metadata": {
        "id": "RxtlgOQUK2re"
      },
      "execution_count": null,
      "outputs": []
    },
    {
      "cell_type": "code",
      "source": [
        "##My own example 110: RegEx - modulo para busquedas\n",
        "\n",
        "import re\n",
        "\n",
        "txt = \"la reina de inglaterra\"\n",
        "x = re.sub(\"\\s\", \".\", txt)   ##con la funcion sub cambiamos los espacios en blancos por otro caracter\n",
        "\n",
        "print(x) "
      ],
      "metadata": {
        "id": "dQntyMbXLDg9"
      },
      "execution_count": null,
      "outputs": []
    },
    {
      "cell_type": "code",
      "source": [
        "##My own example 111: RegEx - modulo para busquedas\n",
        "\n",
        "import re\n",
        "\n",
        "txt = \"la reina de inglaterra\"\n",
        "x = re.search(\"ei\", txt)        ##con esta configuracion del search nos busca en que posicion de la cadena se encuentran los caracteres deseados, en este caso del 4-6\n",
        "\n",
        "print(x) "
      ],
      "metadata": {
        "id": "n7fHS4-HLSVd"
      },
      "execution_count": null,
      "outputs": []
    },
    {
      "cell_type": "code",
      "source": [
        "##My own example 112: RegEx - modulo para busquedas\n",
        "\n",
        "import re\n",
        "\n",
        "txt = \"la reina de inglaterra\"\n",
        "x = re.search(\"ei\", txt)\n",
        "x = re.search(r\"\\bi\\w+\", txt)   ##con esta configuracion del search busca la primera palabra que contenga el caracter y donde termina la palabra\n",
        "print(x.span())"
      ],
      "metadata": {
        "id": "RwzpF-UwL60U"
      },
      "execution_count": null,
      "outputs": []
    },
    {
      "cell_type": "code",
      "source": [
        "##My own example 113: RegEx - modulo para busquedas\n",
        "\n",
        "import re\n",
        "\n",
        "txt = \"la reina de inglaterra\"\n",
        "\n",
        "x = re.search(r\"\\bi\\w+\", txt)   ##con esta configuracion buscamos la palabra que empieza por i y la imprime completa\n",
        "print(x.group())"
      ],
      "metadata": {
        "id": "81zVMKTUMhUu"
      },
      "execution_count": null,
      "outputs": []
    },
    {
      "cell_type": "code",
      "source": [
        "##My own example 114: RegEx - modulo para busquedas\n",
        "\n",
        "import re\n",
        "\n",
        "txt = \"la reina de inglaterra\"\n",
        "\n",
        "x = re.findall(\"\\W\", txt)   ##con el modulo \\W buscara si hay caracteres distintos de la a-z como espacios en blanco o simbolos\n",
        "\n",
        "print(x)\n",
        "\n",
        "if x:\n",
        "  print(\"almenos una coincidencia\")\n",
        "else:\n",
        "  print(\"sin coincidencias\")"
      ],
      "metadata": {
        "id": "uW_Ac0JCNGuj"
      },
      "execution_count": null,
      "outputs": []
    },
    {
      "cell_type": "code",
      "source": [
        "##My own example 115: RegEx - modulo para busquedas\n",
        "\n",
        "import re\n",
        "\n",
        "txt = \"la reina de inglaterra\"\n",
        "\n",
        "x = re.findall(\"[^aer]\", txt)  ##esta configuracion hace la busqueda de caracteres en la cadena exceptuando aer\n",
        "\n",
        "print (x)\n",
        "if x:\n",
        "  print(\"almenos una coincidencia\")\n",
        "else:\n",
        "  print(\"sin coincidencias\")"
      ],
      "metadata": {
        "id": "bU0dmlH0Nv82"
      },
      "execution_count": null,
      "outputs": []
    },
    {
      "cell_type": "code",
      "source": [
        "##My own example 116: RegEx - modulo para busquedas\n",
        "\n",
        "import re\n",
        "\n",
        "txt = \"la reina de inglaterra\"\n",
        "\n",
        "x = re.findall(\"\\D\", txt)   ##con el modulo \\D buscaremos caracteres que no sean digitos\n",
        "\n",
        "print(x)\n",
        "\n",
        "if x:\n",
        "  print(\"almenos una coincidencia\")\n",
        "else:\n",
        "  print(\"sin coincidencias\")"
      ],
      "metadata": {
        "id": "hGO1wihqOLWe"
      },
      "execution_count": null,
      "outputs": []
    },
    {
      "cell_type": "code",
      "source": [
        "##My own example 117: try except\n",
        "\n",
        "d = 90\n",
        "\n",
        "try:         ##uso del try except\n",
        "  print(d)\n",
        "except: \n",
        "  print(\"un error ha ocurrido\")"
      ],
      "metadata": {
        "id": "d9hV_QgyOnRz"
      },
      "execution_count": null,
      "outputs": []
    },
    {
      "cell_type": "code",
      "source": [
        "##My own example 118: try except\n",
        "\n",
        "\n",
        "try:         ##uso del try except, ya que no existe la variable qas el programa va a fallar y saldra el mensaje de error\n",
        "  print(qas)\n",
        "except: \n",
        "  print(\"un error ha ocurrido\")"
      ],
      "metadata": {
        "id": "smLcBm2WPTbZ"
      },
      "execution_count": null,
      "outputs": []
    },
    {
      "cell_type": "code",
      "source": [
        "##My own example 119: try except y else\n",
        "\n",
        "try:\n",
        "  print(\"hola\")\n",
        "except:\n",
        "  print(\"algo fue mal\")\n",
        "else:\n",
        "  print(\"nada fue mal\")"
      ],
      "metadata": {
        "id": "191babnLPee4"
      },
      "execution_count": null,
      "outputs": []
    },
    {
      "cell_type": "code",
      "source": [
        "##My own example 120: try except y finally\n",
        "\n",
        "try:\n",
        "  print(qw)\n",
        "except:\n",
        "  print(\"algo fue mal\")\n",
        "finally:\n",
        "  print(\"el 'try except' ha finalizado\")\n"
      ],
      "metadata": {
        "id": "AEKjC_c-PuG3"
      },
      "execution_count": null,
      "outputs": []
    },
    {
      "cell_type": "code",
      "source": [
        "##My own example 121: try raise\n",
        "sd = -1\n",
        "\n",
        "if sd < 0:\n",
        "  raise Exception(\"Sorry, no numbers below zero\")  ##el error es a proposito con tal de mostrar el raise excepcion\n",
        "\n"
      ],
      "metadata": {
        "id": "rESrj1LAP5tp"
      },
      "execution_count": null,
      "outputs": []
    },
    {
      "cell_type": "code",
      "source": [
        "##My own example 122: RegEx\n",
        "import re\n",
        "\n",
        "url = re.compile(r\"^(https?://)?([da-z.-]+).([a-z.]{2,6})([/w .-]*)*/?$\")\n",
        "\n",
        "if url.search(\"https://pythondiario.com/\"): # Comprobemos que esta es una URL valida\n",
        "    print(\"URL Valida\")\n",
        "else:\n",
        "    print(\"URL No Valida\")"
      ],
      "metadata": {
        "colab": {
          "base_uri": "https://localhost:8080/"
        },
        "id": "QFVCCJ0yQdZn",
        "outputId": "fc15e281-dc97-4007-b36f-cfddac008047"
      },
      "execution_count": 137,
      "outputs": [
        {
          "output_type": "stream",
          "name": "stdout",
          "text": [
            "URL Valida\n"
          ]
        }
      ]
    },
    {
      "cell_type": "code",
      "source": [
        "##My own example 123: RegEx\n",
        "import re\n",
        "\n",
        "patron = ('w*[ñáéíóúÑÁÉÍÓÚ]w*')\n",
        "palabras = re.compile(patron)\n",
        "palabras.findall(\"Niño, Acción, Perro, Lobo, Expresión, Español\")  ##regex que nos muestra letras con acento en una palabra"
      ],
      "metadata": {
        "colab": {
          "base_uri": "https://localhost:8080/"
        },
        "id": "gPajLIcCWtIa",
        "outputId": "7283bc3d-81b1-402f-c06b-5295c1e035b4"
      },
      "execution_count": 136,
      "outputs": [
        {
          "output_type": "execute_result",
          "data": {
            "text/plain": [
              "['ñ', 'ó', 'ó', 'ñ']"
            ]
          },
          "metadata": {},
          "execution_count": 136
        }
      ]
    },
    {
      "cell_type": "code",
      "source": [
        "##My own example 124: RegEx\n",
        "import re\n",
        "\n",
        "patron1 = re.compile('\\b[\\w.%+-]+@[\\w.-]+\\.[a-zA-Z]{2,6}\\b')\n",
        "\n",
        "if patron1.search(\"pythondi1io@gmail.com\"): # Comprobemos sí este es un correo electronico valido\n",
        "    print(\"Correo valido!\")\n",
        "else:\n",
        "    print(\"Correo Invalido!\")"
      ],
      "metadata": {
        "colab": {
          "base_uri": "https://localhost:8080/"
        },
        "id": "-pRRMLnfW72L",
        "outputId": "6e09cf9b-26d5-40ef-c3e5-81b20cf6f842"
      },
      "execution_count": 142,
      "outputs": [
        {
          "output_type": "stream",
          "name": "stdout",
          "text": [
            "Correo Invalido!\n"
          ]
        }
      ]
    },
    {
      "cell_type": "code",
      "source": [
        "##My own example 125: RegEx\n",
        "import re\n",
        "\n",
        "fecha = re.compile(r'^(0?[1-9]|[12][0-9]|3[01])/(0?[1-9]|1[012])/((19|20)dd)$')\n",
        "if re.fullmatch(fecha, \"13/02/1982\"):\n",
        "  print(\"Fecha Valida!\")\n",
        "else:\n",
        "    print(\"Fecha Invalida!\")    \n"
      ],
      "metadata": {
        "colab": {
          "base_uri": "https://localhost:8080/"
        },
        "id": "SIAs15MCYMy7",
        "outputId": "5969f776-4ffb-4755-e196-381f5e52878b"
      },
      "execution_count": 135,
      "outputs": [
        {
          "output_type": "stream",
          "name": "stdout",
          "text": [
            "Fecha Invalida!\n"
          ]
        }
      ]
    },
    {
      "cell_type": "code",
      "source": [
        "##My own example 126: RegEx\n",
        "import re\n",
        "\n",
        "patron = ('^(?:(?:25[0-5]|2[0-4][0-9]|'\n",
        "          '[01]?[0-9][0-9]?)\\.){3}'\n",
        "          '(?:25[0-5]|2[0-4][0-9]|[01]?[0-9][0-9]?)$')\n",
        "\n",
        "ip = re.compile(patron)\n",
        "\n",
        "# la ip 73.60.124.136 es valida\n",
        "ip.search(\"73.60.124.136\")\n",
        "\n",
        "print(ip.search(\"256.60.124.136\"))  ##deberia dar none o no valida"
      ],
      "metadata": {
        "colab": {
          "base_uri": "https://localhost:8080/"
        },
        "id": "IuNug0YaZjqk",
        "outputId": "ee529dbc-e160-48bb-e5d0-89f7537ec630"
      },
      "execution_count": 143,
      "outputs": [
        {
          "output_type": "stream",
          "name": "stdout",
          "text": [
            "None\n"
          ]
        }
      ]
    },
    {
      "cell_type": "code",
      "source": [
        "##My own example 127: RegEx\n",
        "import re\n",
        "\n",
        "fecha = re.compile(r'^(0?[1-9]|[12][0-9]|3[01])/(0?[1-9]|1[012])/((19|20)\\d\\d)$')\n",
        "\n",
        "# validando 13/02/1982\n",
        "fecha.search(\"13/02/1982\")\n",
        "print(fecha.search(\"13/02/1982\"))\n",
        "\n",
        "# no valida 13-02-1982\n",
        "print(fecha.search(\"13-02-1982\"))\n",
        "\n",
        "# no valida 32/12/2015\n",
        "print(fecha.search(\"32/12/2015\"))\n",
        "\n",
        "# no valida 30/14/2015\n",
        "print(fecha.search(\"30/14/2015\"))"
      ],
      "metadata": {
        "colab": {
          "base_uri": "https://localhost:8080/"
        },
        "id": "HNoryvc1Zxyb",
        "outputId": "902b2a3b-117d-46eb-9654-0a1bb95095a1"
      },
      "execution_count": 145,
      "outputs": [
        {
          "output_type": "stream",
          "name": "stdout",
          "text": [
            "<re.Match object; span=(0, 10), match='13/02/1982'>\n",
            "None\n",
            "None\n",
            "None\n"
          ]
        }
      ]
    },
    {
      "cell_type": "code",
      "source": [
        "##My own example 128: quicksort array\n",
        "import json\n",
        "\n",
        "def partition(array, low, high):\n",
        "\n",
        "  pivot = array[high]\n",
        "  i = low - 1\n",
        "\n",
        "  for j in range(low, high):\n",
        "    if array[j] <= pivot:\n",
        "      i = i + 1\n",
        "      (array[i], array[j]) = (array[j], array[i])\n",
        "\n",
        "  (array[i + 1], array[high]) = (array[high], array[i + 1])\n",
        "  return i + 1\n",
        "\n",
        "def quickSort(array, low, high):\n",
        "  if low < high:\n",
        "    pi = partition(array, low, high)\n",
        "    quickSort(array, low, pi - 1)\n",
        "    quickSort(array, pi + 1, high)\n",
        "\n",
        "data = [8, 7, 2, 1, 0, 9, 6]\n",
        "print(\"Unsorted Array\")\n",
        "print(data)\n",
        "\n",
        "size = len(data)\n",
        "quickSort(data, 0, size - 1)\n",
        "\n",
        "print('Sorted Array in Ascending Order:')\n",
        "print(data)\n"
      ],
      "metadata": {
        "id": "raiafFAmaFcS"
      },
      "execution_count": null,
      "outputs": []
    },
    {
      "cell_type": "code",
      "source": [
        "##My own example 129: otro sort\n",
        "\n",
        "def bubble_sort(array):\n",
        "    n = len(array)\n",
        "\n",
        "    for i in range(n):\n",
        "        already_sorted = True\n",
        "\n",
        "        for j in range(n - i - 1):\n",
        "            if array[j] > array[j + 1]:\n",
        "                array[j], array[j + 1] = array[j + 1], array[j]\n",
        "\n",
        "                already_sorted = False\n",
        "\n",
        "        if already_sorted:\n",
        "            break\n",
        "\n",
        "    return array\n",
        "\n",
        "ppp = bubble_sort([1,12,5,6,54,23,2])\n",
        "print(ppp)\n"
      ],
      "metadata": {
        "id": "XSOrSVJtcFDY"
      },
      "execution_count": null,
      "outputs": []
    },
    {
      "cell_type": "code",
      "source": [
        "##My own example 130: insertion sort\n",
        "def insertion_sort(array):\n",
        "    for i in range(1, len(array)):\n",
        "        key_item = array[i]\n",
        "        j = i - 1\n",
        "        while j >= 0 and array[j] > key_item:\n",
        "            array[j + 1] = array[j]\n",
        "            j -= 1\n",
        "        array[j + 1] = key_item\n",
        "    return array\n",
        "\n",
        "ppp2 = insertion_sort([1,2,3,4,5])\n",
        "print(ppp2)"
      ],
      "metadata": {
        "id": "KlU9B8uudU5t"
      },
      "execution_count": null,
      "outputs": []
    },
    {
      "cell_type": "code",
      "source": [
        "##My own example 131: merge sort\n",
        "def merge(left, right):\n",
        "    if len(left) == 0:\n",
        "        return right\n",
        "    if len(right) == 0:\n",
        "        return left\n",
        "\n",
        "    result = []\n",
        "    index_left = index_right = 0\n",
        "    while len(result) < len(left) + len(right):\n",
        "        if left[index_left] <= right[index_right]:\n",
        "            result.append(left[index_left])\n",
        "            index_left += 1\n",
        "        else:\n",
        "            result.append(right[index_right])\n",
        "            index_right += 1\n",
        "        if index_right == len(right):\n",
        "            result += left[index_left:]\n",
        "            break\n",
        "        if index_left == len(left):\n",
        "            result += right[index_right:]\n",
        "            break\n",
        "    return result\n",
        "\n",
        "def merge_sort(array):\n",
        "    if len(array) < 2:\n",
        "        return array\n",
        "\n",
        "    midpoint = len(array) // 2\n",
        "    return merge(\n",
        "        left=merge_sort(array[:midpoint]),\n",
        "        right=merge_sort(array[midpoint:]))\n",
        "\n",
        "ppp3 = merge_sort([1,12,5,6,54,23,2])\n",
        "print(ppp3)"
      ],
      "metadata": {
        "id": "FgE1wPegdrhM"
      },
      "execution_count": null,
      "outputs": []
    },
    {
      "cell_type": "code",
      "source": [
        "##My own example 132: manejo de excepciones\n",
        "\n",
        "while True:\n",
        "       try:\n",
        "         x = int(input(\"Por favor ingrese un numero: \"))\n",
        "         break\n",
        "       except ValueError:\n",
        "        print(\"Oops!  ese no era un numero, intentlo de nuevo\")"
      ],
      "metadata": {
        "id": "0U1dy3zGeS4B"
      },
      "execution_count": null,
      "outputs": []
    },
    {
      "cell_type": "code",
      "source": [
        "##My own example 133: manejo de excepciones\n",
        "import sys \n",
        "\n",
        "for arg in sys.argv[1:]:\n",
        "    try:\n",
        "        f = open(arg, 'r')\n",
        "    except OSError:\n",
        "        print('no se puede abrir', arg)\n",
        "    else:\n",
        "        print(arg, 'tiene', len(f.readlines()), 'lineas')\n",
        "        f.close()\n",
        "\n"
      ],
      "metadata": {
        "id": "xG0E3WOjfRY1"
      },
      "execution_count": null,
      "outputs": []
    },
    {
      "cell_type": "code",
      "source": [
        "##My own example 134: manejo de herencia\n",
        "\n",
        "\n",
        "class Animal:\n",
        "    def __init__(self, especie, edad):\n",
        "        self.especie = especie\n",
        "        self.edad = edad\n",
        "\n",
        "    # Método genérico pero con implementación particular\n",
        "    def hablar(self):\n",
        "        # Método vacío\n",
        "        pass\n",
        "\n",
        "    # Método genérico pero con implementación particular\n",
        "    def moverse(self):\n",
        "        # Método vacío\n",
        "        pass\n",
        "\n",
        "    # Método genérico con la misma implementación\n",
        "    def describeme(self):\n",
        "        print(\"Soy un Animal del tipo\", type(self).__name__)\n",
        "\n",
        "class Perro(Animal):\n",
        "    def hablar(self):\n",
        "        print(\"Guau!\")\n",
        "    def moverse(self):\n",
        "        print(\"Caminando con 4 patas\")\n",
        "\n",
        "class Vaca(Animal):\n",
        "    def hablar(self):\n",
        "        print(\"Muuu!\")\n",
        "    def moverse(self):\n",
        "        print(\"Caminando con 4 patas\")\n",
        "\n",
        "class Abeja(Animal):\n",
        "    def hablar(self):\n",
        "        print(\"Bzzzz!\")\n",
        "    def moverse(self):\n",
        "        print(\"Volando\")\n",
        "\n",
        "    # Nuevo método\n",
        "    def picar(self):\n",
        "        print(\"Picar!\")\n"
      ],
      "metadata": {
        "id": "9beekPjOfw-P"
      },
      "execution_count": 172,
      "outputs": []
    },
    {
      "cell_type": "code",
      "source": [
        "##My own example 135: manejo de hash\n",
        "\n",
        "import hashlib\n",
        "\n",
        "m = hashlib.sha256(b\"mensaje\")\n",
        "print(m.digest())"
      ],
      "metadata": {
        "id": "jhx4l0WhhAc6"
      },
      "execution_count": null,
      "outputs": []
    },
    {
      "cell_type": "code",
      "source": [
        "##My own example 136: manejo de hash\n",
        "\n",
        "import hashlib\n",
        "\n",
        "m = hashlib.sha256(b\"Mensaje\")  ##al cambiar por ejemplo la \"M\" a mayuscula el hash cambia con respecto al ejercicio anterior en minuscula\n",
        "print(m.digest())"
      ],
      "metadata": {
        "id": "aKDY4NQ2ha1A"
      },
      "execution_count": null,
      "outputs": []
    },
    {
      "cell_type": "code",
      "source": [
        "##My own example 137: manejo de hash\n",
        "import hashlib\n",
        "m = hashlib.new(\"sha256\", b\"mensaje\")  ##con new debemos ingresar dos parametros el primero debe ser una cadena de la funcion hash y la segunda la cadena que quedemos cifrar\n",
        "print(m.digest())"
      ],
      "metadata": {
        "id": "Xvxm5_70hxLy"
      },
      "execution_count": null,
      "outputs": []
    },
    {
      "cell_type": "code",
      "source": [
        "##My own example 138: manejo de hash\n",
        "import hashlib\n",
        "print(m.hexdigest())  ##con el comando hexdigest nos devuelve la cadena cifrada en hexadecimal\n"
      ],
      "metadata": {
        "id": "IphXJ2l2ibpZ"
      },
      "execution_count": null,
      "outputs": []
    },
    {
      "cell_type": "code",
      "source": [
        "##My own example 139:\n",
        "\n",
        "import numpy as np\n",
        "\n",
        "arr = np.array([[1,2],[3,4]])\n",
        "print(np.linalg.det(arr)) # determinante de una matriz"
      ],
      "metadata": {
        "colab": {
          "base_uri": "https://localhost:8080/"
        },
        "id": "IXI_9dGsizI-",
        "outputId": "36a7cab1-09fe-4a09-ed98-ceb964ce5fc2"
      },
      "execution_count": 177,
      "outputs": [
        {
          "output_type": "stream",
          "name": "stdout",
          "text": [
            "-2.0000000000000004\n"
          ]
        }
      ]
    },
    {
      "cell_type": "code",
      "source": [
        "##My own example 140:\n",
        "\n",
        "import numpy as np\n",
        "\n",
        "a = np.array([[1,2],[2,1],[5,5]])\n",
        "b = np.array([[1,2,4],[0,0,1]])\n",
        "\n",
        "#Multiplicación de matrices\n",
        "print(np.matmul(a,b))\n",
        "print(np.matmul(b,a))"
      ],
      "metadata": {
        "id": "Q0Z7HF9Ti7W9"
      },
      "execution_count": null,
      "outputs": []
    },
    {
      "cell_type": "code",
      "source": [
        "##My own example 141: mostrar una imagen\n",
        "import matplotlib.pyplot as plt\n",
        "from scipy import misc\n",
        "\n",
        "img = misc.face()\n",
        "\n",
        "plt.imshow(img)\n",
        "plt.show()"
      ],
      "metadata": {
        "id": "z2Egk-KEi-nY"
      },
      "execution_count": null,
      "outputs": []
    },
    {
      "cell_type": "code",
      "source": [
        "##My own example 142: convertir imagen a escala de grises\n",
        "import matplotlib.pyplot as plt\n",
        "from scipy import misc\n",
        "\n",
        "img = misc.face()\n",
        "img_gray = img @ [0.2126, 0.7152, 0.0722]\n",
        "\n",
        "plt.imshow(img_gray, cmap=\"gray\")\n",
        "plt.show()"
      ],
      "metadata": {
        "id": "nKDwvp2mjDXl"
      },
      "execution_count": null,
      "outputs": []
    },
    {
      "cell_type": "code",
      "source": [
        "##My own example 143: numpy array slicing\n",
        "import numpy as np\n",
        "\n",
        "arr = np.array([[1,2,3],[4,5,6],[7,8,9]])\n",
        "\n",
        "print(arr[:,2])\n",
        "print(arr[0,:])"
      ],
      "metadata": {
        "id": "ZxwvZ207jFbE"
      },
      "execution_count": null,
      "outputs": []
    },
    {
      "cell_type": "code",
      "source": [
        "##My own example 144:  otro array con numpy\n",
        "import numpy as np\n",
        "\n",
        "a = np.array([1,54,4,-10,0,2,54,7,4])\n",
        "print(a>5)"
      ],
      "metadata": {
        "id": "V8VwrYLIjH67"
      },
      "execution_count": null,
      "outputs": []
    },
    {
      "cell_type": "code",
      "source": [
        "##My own example 145:  numpy where\n",
        "import numpy as np\n",
        "\n",
        "a = np.array([1,54,9,-11,0,2,54,7,4])\n",
        "print(a%2 == 0)\n",
        "print(np.where(a%2 == 0))"
      ],
      "metadata": {
        "id": "RspF12eojJyJ"
      },
      "execution_count": null,
      "outputs": []
    },
    {
      "cell_type": "code",
      "source": [
        "##My own example 146:  escribir en un numpy array\n",
        "import numpy as np\n",
        "\n",
        "a = np.array([1,54,4,-10,0,2,54,7,4])\n",
        "a[2:-2] = -10\n",
        "print(a)"
      ],
      "metadata": {
        "id": "5uzdPOcnjLse"
      },
      "execution_count": null,
      "outputs": []
    },
    {
      "cell_type": "code",
      "source": [
        "##My own example 147: concatenar array en el eje 0\n",
        "import numpy as np\n",
        "\n",
        "a = np.array([1,54,4,-10,0,2,54,7,4])\n",
        "b = np.array([7,7,7])\n",
        "print(np.hstack([a,b]))"
      ],
      "metadata": {
        "id": "OMaDpNzAjNbq"
      },
      "execution_count": null,
      "outputs": []
    },
    {
      "cell_type": "code",
      "source": [
        "##My own example 148: concatenar array en el eje 1\n",
        "import numpy as np\n",
        "\n",
        "a = np.array([1,54,4,-10,0,2,54,7,4])\n",
        "b = np.array([7,7,7,7,7,7,7,7,7])\n",
        "print(np.vstack([a,b]))"
      ],
      "metadata": {
        "id": "k8KwLlVZjPVA"
      },
      "execution_count": null,
      "outputs": []
    },
    {
      "cell_type": "code",
      "source": [
        "##My own example 149: concatenar como columnas\n",
        "import numpy as np\n",
        "\n",
        "a = np.array([1,54,4,-10,0,2,54,7,4])\n",
        "b = np.array([7,7,7,7,7,7,7,7,7])\n",
        "print(np.column_stack([a,b]))"
      ],
      "metadata": {
        "id": "sFB_GabujQyH"
      },
      "execution_count": null,
      "outputs": []
    },
    {
      "cell_type": "code",
      "source": [
        "##My own example 150:  plotear x^2\n",
        "import numpy as np\n",
        "import matplotlib.pyplot as plt\n",
        "\n",
        "a = np.array([0,1,2,3,4,5])\n",
        "b = a**2\n",
        "\n",
        "plt.plot(a,b)\n",
        "plt.show()"
      ],
      "metadata": {
        "id": "WOi9rB44jSJD"
      },
      "execution_count": null,
      "outputs": []
    },
    {
      "cell_type": "code",
      "source": [
        "##My own example 151:  numpy arange\n",
        "import numpy as np\n",
        "import matplotlib.pyplot as plt\n",
        "\n",
        "x = np.arange(0,4*np.pi,0.1)   # start,stop,step\n",
        "y = np.sin(x)\n",
        "\n",
        "plt.plot(x,y)\n",
        "plt.show()"
      ],
      "metadata": {
        "id": "u-yRHjFwjTw3"
      },
      "execution_count": null,
      "outputs": []
    },
    {
      "cell_type": "code",
      "source": [
        "##My own example 152:  añadir ruido\n",
        "import numpy as np\n",
        "import matplotlib.pyplot as plt\n",
        "\n",
        "x = np.arange(0,4*np.pi,0.1)   \n",
        "noise = np.random.normal(0,0.4,len(x)) \n",
        "y = np.sin(x) + noise # añadir ruido\n",
        "\n",
        "plt.plot(x,y)\n",
        "plt.show()"
      ],
      "metadata": {
        "id": "oF6LUjD3jVUO"
      },
      "execution_count": null,
      "outputs": []
    },
    {
      "cell_type": "code",
      "source": [
        "##My own example 153:  promedio mobil\n",
        "import numpy as np\n",
        "import matplotlib.pyplot as plt\n",
        "\n",
        "def moving_average(a, n=3) :\n",
        "    ret = np.cumsum(a, dtype=float)\n",
        "    ret[n:] = ret[n:] - ret[:-n]\n",
        "    return ret[n - 1:] / n\n",
        "\n",
        "x = np.arange(0,4*np.pi,0.1)   \n",
        "noise = np.random.normal(0,0.2,len(x)) \n",
        "y = np.sin(x) + noise # añadir ruido\n",
        "y_filtered = moving_average(y)\n",
        "\n",
        "plt.plot(x[:-2],y_filtered)\n",
        "plt.show()"
      ],
      "metadata": {
        "id": "0yrIE5BAjWs3"
      },
      "execution_count": null,
      "outputs": []
    },
    {
      "cell_type": "code",
      "source": [
        "##My own example 154:  numpy all\n",
        "\n",
        "import numpy as np\n",
        "\n",
        "a = np.array([2,-4,-9,3,7,-2,1])\n",
        "\n",
        "if (a>0).all():\n",
        "    print(\"Todos mayores a 0\")\n",
        "else:\n",
        "    print(\"No todos mayores a 0\")"
      ],
      "metadata": {
        "id": "I1MbNPdukQmm"
      },
      "execution_count": null,
      "outputs": []
    },
    {
      "cell_type": "code",
      "source": [
        "##My own example 155:  numpy any\n",
        "\n",
        "import numpy as np\n",
        "\n",
        "a = np.array([2,-4,-9,3,7,-2,1])\n",
        "\n",
        "if (a>0).any():\n",
        "    print(\"Alguno mayor a 0\")\n",
        "else:\n",
        "    print(\"Ninguno mayor a 0\")"
      ],
      "metadata": {
        "id": "IpPfk2UwkWt0"
      },
      "execution_count": null,
      "outputs": []
    },
    {
      "cell_type": "code",
      "source": [
        "##My own example 156: ver el tamaño del hash en entero\n",
        "import hashlib\n",
        "\n",
        "m = hashlib.sha256(b'mensaje')\n",
        "print(m.digest_size)    "
      ],
      "metadata": {
        "id": "GsqZXb9Okd80"
      },
      "execution_count": null,
      "outputs": []
    },
    {
      "cell_type": "code",
      "source": [
        "##My own example 157: seno y coseno\n",
        "\n",
        "import math\n",
        "\n",
        "ss = 0\n",
        "print(math.sin(ss))"
      ],
      "metadata": {
        "id": "CgQ4PL0flesG"
      },
      "execution_count": null,
      "outputs": []
    },
    {
      "cell_type": "code",
      "source": [
        "##My own example 158: seno y coseno\n",
        "\n",
        "import math\n",
        "\n",
        "cs = 0\n",
        "print(math.cos(cs))"
      ],
      "metadata": {
        "id": "8eydskZzmJ-H"
      },
      "execution_count": null,
      "outputs": []
    },
    {
      "cell_type": "code",
      "source": [
        "##My own example 159: tangente\n",
        "import math\n",
        "\n",
        "tt = 45\n",
        "print(math.tan(tt))"
      ],
      "metadata": {
        "id": "yXjJLtNsmVNM"
      },
      "execution_count": null,
      "outputs": []
    },
    {
      "cell_type": "code",
      "source": [
        "##My own example 160: trigonometria\n",
        "import math\n",
        "\n",
        "print (math.degrees(0.7853981633974483))  ##uso de grados\n"
      ],
      "metadata": {
        "id": "LvUFVgsLmfGP"
      },
      "execution_count": null,
      "outputs": []
    },
    {
      "cell_type": "code",
      "source": [
        "##My own example 161: trigonometria\n",
        "\n",
        "print(math.radians(90))  ##uso de radianes"
      ],
      "metadata": {
        "id": "rdIg-HRSm2Bn"
      },
      "execution_count": null,
      "outputs": []
    },
    {
      "cell_type": "code",
      "source": [
        "##My own example 162: trigonometria\n",
        "\n",
        "print(math.hypot(3, 4))  #uso de la hipotenusa"
      ],
      "metadata": {
        "id": "Moipjv1Am_aK"
      },
      "execution_count": null,
      "outputs": []
    },
    {
      "cell_type": "code",
      "source": [
        "##My own example 163: trigonometria\n",
        "\n",
        "import math\n",
        "\n",
        "def sen(grados):\n",
        "    return math.sin(math.radians(grados))  ##funcion para convertir el seno de un numero a grados radianes\n",
        "print(sen(30))"
      ],
      "metadata": {
        "colab": {
          "base_uri": "https://localhost:8080/"
        },
        "id": "IpOXjrI2nN8G",
        "outputId": "1058d196-2ffb-4373-8206-2d12c6047220"
      },
      "execution_count": 213,
      "outputs": [
        {
          "output_type": "stream",
          "name": "stdout",
          "text": [
            "0.49999999999999994\n"
          ]
        }
      ]
    },
    {
      "cell_type": "code",
      "source": [
        "##My own example 164: libreria matplotlib\n",
        "\n",
        "import matplotlib.pyplot as plt\n",
        "# Crear la figura y los ejes\n",
        "fig, ax = plt.subplots()\n",
        "# Dibujar puntos\n",
        "ax.scatter(x = [1, 2, 3], y = [3, 2, 1])\n",
        "# Guardar el gráfico en formato png\n",
        "plt.savefig('diagrama-dispersion.png')\n",
        "# Mostrar el gráfico\n",
        "plt.show()"
      ],
      "metadata": {
        "colab": {
          "base_uri": "https://localhost:8080/",
          "height": 265
        },
        "id": "1L1zIa5Bnn8z",
        "outputId": "ee464c31-0f0a-4ce7-b35c-bf591494b965"
      },
      "execution_count": 216,
      "outputs": [
        {
          "output_type": "display_data",
          "data": {
            "text/plain": [
              "<Figure size 432x288 with 1 Axes>"
            ],
            "image/png": "[encoded data removed]"
          },
          "metadata": {
            "needs_background": "light"
          }
        }
      ]
    }
  ]
}